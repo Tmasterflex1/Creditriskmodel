{
  "nbformat": 4,
  "nbformat_minor": 0,
  "metadata": {
    "colab": {
      "provenance": [],
      "authorship_tag": "ABX9TyNZYb6vHuumtNHfeZyw9uUq",
      "include_colab_link": true
    },
    "kernelspec": {
      "name": "python3",
      "display_name": "Python 3"
    },
    "language_info": {
      "name": "python"
    }
  },
  "cells": [
    {
      "cell_type": "markdown",
      "metadata": {
        "id": "view-in-github",
        "colab_type": "text"
      },
      "source": [
        "<a href=\"https://colab.research.google.com/github/Tmasterflex1/Creditriskmodel/blob/main/Credit_Risk_Model.ipynb\" target=\"_parent\"><img src=\"https://colab.research.google.com/assets/colab-badge.svg\" alt=\"Open In Colab\"/></a>"
      ]
    },
    {
      "cell_type": "markdown",
      "source": [
        "**CREDIT RISK MODEL**\n",
        "\n",
        "I will be using the data from a kaggle competition from 2011."
      ],
      "metadata": {
        "id": "w_wlsrVIb7ox"
      }
    },
    {
      "cell_type": "code",
      "execution_count": 1,
      "metadata": {
        "id": "fkSC69CYbjxg"
      },
      "outputs": [],
      "source": [
        "import pandas as pd\n",
        "import numpy as np\n",
        "import seaborn as sns\n",
        "import matplotlib.pyplot as plt"
      ]
    },
    {
      "cell_type": "code",
      "source": [
        "\n",
        "\n",
        "train = pd pd.read_csv(data)\n"
      ],
      "metadata": {
        "id": "aPDP1C7hcH87"
      },
      "execution_count": null,
      "outputs": []
    }
  ]
}